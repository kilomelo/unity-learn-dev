{
 "cells": [
  {
   "cell_type": "markdown",
   "metadata": {},
   "source": [
    "合并不同日期dataset的工具\n",
    "\n",
    "dataset文件目录结构：\n",
    "yyyyMMdd/result(0/1/2)/yyyyMMdd_boardWidth_boardHeight_xIdx_yIdx_areaSize_result.csv\n",
    "\n",
    "其中\n",
    "boardWidth:盘面宽\n",
    "boardHeight:盘面高\n",
    "xIdx:方块x坐标\n",
    "yIdx:方块y坐标\n",
    "areaSize:数据采集范围，0为全盘面；1为以方块为中心3*3区域9数据长度（包括盘面外，以数字-2表示）；2为5*5区域25数据长度\n",
    "result:方块结果，0为雷；1为非minimal方块；2为minimal方块"
   ]
  },
  {
   "cell_type": "code",
   "execution_count": 3,
   "metadata": {},
   "outputs": [
    {
     "name": "stdout",
     "output_type": "stream",
     "text": [
      "C:/Dev/picoVideo/vrtv/SavedTrainingDataset\\20230813_merged\n"
     ]
    }
   ],
   "source": [
    "import os\n",
    "import shutil\n",
    "import errno\n",
    "\n",
    "# 需要合并csv文件的根目录，yyyyMMdd文件夹的上级目录\n",
    "rootDir = \"C:/Dev/picoVideo/vrtv/SavedTrainingDataset\"\n",
    "if (os.path.exists(rootDir) == False):\n",
    "    print(\"No such dir\")\n",
    "    raise\n",
    "dateDir = [os.path.join(rootDir, x) for x in os.listdir(rootDir) if os.path.isdir(os.path.join(rootDir, x))]\n",
    "\n",
    "if (dateDir == []):\n",
    "    print(\"No child dir\")\n",
    "    raise\n",
    "\n",
    "# 合并后的文件路径\n",
    "# mergedDateDir = os.path.join(rootDir,  dateDir[0] + \"_merged\")\n",
    "mergedDateDir = dateDir[0] + \"_merged\"\n",
    "print(mergedDateDir)\n",
    "\n",
    "for d in dateDir:\n",
    "    try:\n",
    "        shutil.copytree(d, mergedDateDir, dirs_exist_ok=True)\n",
    "    except OSError as err:\n",
    "    \n",
    "        # error caused if the source was not a directory\n",
    "        if err.errno == errno.ENOTDIR:\n",
    "            shutil.copy2(src, dest)\n",
    "        else:\n",
    "            print(\"Error: % s\" % err)"
   ]
  },
  {
   "cell_type": "code",
   "execution_count": 4,
   "metadata": {},
   "outputs": [
    {
     "name": "stdout",
     "output_type": "stream",
     "text": [
      "combineFilesWithSameConfig, dir: C:/Dev/picoVideo/vrtv/SavedTrainingDataset\\20230813_merged\\0 fileList:\n",
      "['20230813_8_8_0_0.csv', '20230813_8_8_1_0.csv', '20230813_8_8_2_0.csv', '20230813_8_8_3_0.csv', '20230814_8_8_0_0.csv', '20230814_8_8_1_0.csv', '20230814_8_8_2_0.csv', '20230814_8_8_3_0.csv', '20230815_16_16_0_0.csv', '20230815_16_16_1_0.csv', '20230815_16_16_2_0.csv', '20230815_16_16_3_0.csv', '20230815_8_8_0_0.csv', '20230815_8_8_1_0.csv', '20230815_8_8_2_0.csv', '20230815_8_8_3_0.csv', '20230816_8_8_0_0.csv', '20230816_8_8_1_0.csv', '20230816_8_8_2_0.csv', '20230816_8_8_3_0.csv']\n",
      "merged file: 20230816_8_8_3_0.csv\n",
      "merged file: 20230816_8_8_2_0.csv\n",
      "merged file: 20230816_8_8_1_0.csv\n",
      "merged file: 20230816_8_8_0_0.csv\n",
      "merged file: 20230815_16_16_3_0.csv\n",
      "merged file: 20230815_16_16_2_0.csv\n",
      "merged file: 20230815_16_16_1_0.csv\n",
      "merged file: 20230815_16_16_0_0.csv\n",
      "combineFilesWithSameConfig, dir: C:/Dev/picoVideo/vrtv/SavedTrainingDataset\\20230813_merged\\1 fileList:\n",
      "['20230813_8_8_0_1.csv', '20230813_8_8_1_1.csv', '20230813_8_8_2_1.csv', '20230813_8_8_3_1.csv', '20230814_8_8_0_1.csv', '20230814_8_8_1_1.csv', '20230814_8_8_2_1.csv', '20230814_8_8_3_1.csv', '20230815_16_16_0_1.csv', '20230815_16_16_1_1.csv', '20230815_16_16_2_1.csv', '20230815_16_16_3_1.csv', '20230815_8_8_0_1.csv', '20230815_8_8_1_1.csv', '20230815_8_8_2_1.csv', '20230815_8_8_3_1.csv', '20230816_8_8_0_1.csv', '20230816_8_8_1_1.csv', '20230816_8_8_2_1.csv', '20230816_8_8_3_1.csv']\n",
      "merged file: 20230816_8_8_3_1.csv\n",
      "merged file: 20230816_8_8_2_1.csv\n",
      "merged file: 20230816_8_8_1_1.csv\n",
      "merged file: 20230816_8_8_0_1.csv\n",
      "merged file: 20230815_16_16_3_1.csv\n",
      "merged file: 20230815_16_16_2_1.csv\n",
      "merged file: 20230815_16_16_1_1.csv\n",
      "merged file: 20230815_16_16_0_1.csv\n",
      "combineFilesWithSameConfig, dir: C:/Dev/picoVideo/vrtv/SavedTrainingDataset\\20230813_merged\\2 fileList:\n",
      "['20230813_8_8_0_2.csv', '20230813_8_8_1_2.csv', '20230813_8_8_2_2.csv', '20230813_8_8_3_2.csv', '20230814_8_8_0_2.csv', '20230814_8_8_1_2.csv', '20230814_8_8_2_2.csv', '20230814_8_8_3_2.csv', '20230815_16_16_0_2.csv', '20230815_16_16_1_2.csv', '20230815_16_16_2_2.csv', '20230815_16_16_3_2.csv', '20230815_8_8_0_2.csv', '20230815_8_8_1_2.csv', '20230815_8_8_2_2.csv', '20230815_8_8_3_2.csv', '20230816_8_8_0_2.csv', '20230816_8_8_1_2.csv', '20230816_8_8_2_2.csv', '20230816_8_8_3_2.csv']\n",
      "merged file: 20230816_8_8_3_2.csv\n",
      "merged file: 20230816_8_8_2_2.csv\n",
      "merged file: 20230816_8_8_1_2.csv\n",
      "merged file: 20230816_8_8_0_2.csv\n",
      "merged file: 20230815_16_16_3_2.csv\n",
      "merged file: 20230815_16_16_2_2.csv\n",
      "merged file: 20230815_16_16_1_2.csv\n",
      "merged file: 20230815_16_16_0_2.csv\n"
     ]
    }
   ],
   "source": [
    "def combineFilesWithSameConfig(dir, fileList):\n",
    "    print(\"combineFilesWithSameConfig, dir: \" + dir + \" fileList:\")\n",
    "    print(fileList)\n",
    "    while (fileList != []):\n",
    "        file = fileList.pop()\n",
    "        print(\"merged file: \" + file)\n",
    "        # 去掉日期\n",
    "        config = file[9:]\n",
    "        filesWithSameConfig = [x for x in fileList if x[9:] == config]\n",
    "        for f in filesWithSameConfig:\n",
    "            fileList.remove(f)\n",
    "        # 合并文件\n",
    "        with open(os.path.join(dir, file), 'at') as outfile:\n",
    "            for f in filesWithSameConfig:\n",
    "                with open(os.path.join(dir, f), 'rt') as infile:\n",
    "                    infileContent = infile.read()\n",
    "                    outfile.write(infileContent)\n",
    "        # 去掉合并后的文件\n",
    "        for f in filesWithSameConfig:\n",
    "            os.remove(os.path.join(dir, f))\n",
    "\n",
    "for result in os.listdir(mergedDateDir):\n",
    "    resultDir = os.path.join(mergedDateDir, result)\n",
    "    files = [file for file in os.listdir(resultDir) if not os.path.isdir(file)]\n",
    "    combineFilesWithSameConfig(resultDir, files)"
   ]
  }
 ],
 "metadata": {
  "kernelspec": {
   "display_name": "pytorch_bc",
   "language": "python",
   "name": "python3"
  },
  "language_info": {
   "codemirror_mode": {
    "name": "ipython",
    "version": 3
   },
   "file_extension": ".py",
   "mimetype": "text/x-python",
   "name": "python",
   "nbconvert_exporter": "python",
   "pygments_lexer": "ipython3",
   "version": "3.9.17"
  },
  "orig_nbformat": 4
 },
 "nbformat": 4,
 "nbformat_minor": 2
}
