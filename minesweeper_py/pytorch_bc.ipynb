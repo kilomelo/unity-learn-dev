{
 "cells": [
  {
   "cell_type": "code",
   "execution_count": 1,
   "metadata": {},
   "outputs": [],
   "source": [
    "import pandas as pd\n",
    "\n",
    "# Read data\n",
    "data = pd.read_csv(\"sonar.csv\", header=None)\n",
    "X = data.iloc[:, 0:60]\n",
    "y = data.iloc[:, 60]"
   ]
  },
  {
   "cell_type": "code",
   "execution_count": 6,
   "metadata": {},
   "outputs": [
    {
     "name": "stdout",
     "output_type": "stream",
     "text": [
      "['M' 'R']\n"
     ]
    }
   ],
   "source": [
    "from sklearn.preprocessing import LabelEncoder\n",
    "\n",
    "encoder = LabelEncoder()\n",
    "encoder.fit(y)\n",
    "y = encoder.transform(y)\n",
    "print(encoder.classes_)"
   ]
  },
  {
   "cell_type": "code",
   "execution_count": 7,
   "metadata": {},
   "outputs": [],
   "source": [
    "import torch\n",
    "\n",
    "X = torch.tensor(X.values, dtype=torch.float32)\n",
    "y = torch.tensor(y, dtype=torch.float32).reshape(-1, 1)"
   ]
  },
  {
   "cell_type": "code",
   "execution_count": 8,
   "metadata": {},
   "outputs": [
    {
     "name": "stdout",
     "output_type": "stream",
     "text": [
      "11161\n",
      "11041\n"
     ]
    }
   ],
   "source": [
    "import torch.nn as nn\n",
    "\n",
    "class Wide(nn.Module):\n",
    "    def __init__(self):\n",
    "        super().__init__()\n",
    "        self.hidden = nn.Linear(60, 180)\n",
    "        self.relu = nn.ReLU()\n",
    "        self.output = nn.Linear(180, 1)\n",
    "        self.sigmoid = nn.Sigmoid()\n",
    "\n",
    "    def forward(self, x):\n",
    "        x = self.relu(self.hidden(x))\n",
    "        x = self.sigmoid(self.output(x))\n",
    "        return x\n",
    "    \n",
    "class Deep(nn.Module):\n",
    "    def __init__(self):\n",
    "        super().__init__()\n",
    "        self.layer1 = nn.Linear(60, 60)\n",
    "        self.act1 = nn.ReLU()\n",
    "        self.layer2 = nn.Linear(60, 60)\n",
    "        self.act2 = nn.ReLU()\n",
    "        self.layer3 = nn.Linear(60, 60)\n",
    "        self.act3 = nn.ReLU()\n",
    "        self.output = nn.Linear(60, 1)\n",
    "        self.sigmoid = nn.Sigmoid()\n",
    "\n",
    "    def forward(self, x):\n",
    "        x = self.act1(self.layer1(x))\n",
    "        x = self.act2(self.layer2(x))\n",
    "        x = self.act3(self.layer3(x))\n",
    "        x = self.sigmoid(self.output(x))\n",
    "        return x\n",
    "    \n",
    "# Compare model sizes\n",
    "model1 = Wide()\n",
    "model2 = Deep()\n",
    "print(sum([x.reshape(-1).shape[0] for x in model1.parameters()]))  # 11161\n",
    "print(sum([x.reshape(-1).shape[0] for x in model2.parameters()]))  # 11041"
   ]
  },
  {
   "cell_type": "code",
   "execution_count": 19,
   "metadata": {},
   "outputs": [],
   "source": [
    "import copy\n",
    "import numpy as np\n",
    "import torch\n",
    "import torch.nn as nn\n",
    "import torch.optim as optim\n",
    "import tqdm\n",
    "\n",
    "def model_train(model, X_train, y_train, X_val, y_val):\n",
    "    # loss function and optimizer\n",
    "    loss_fn = nn.BCELoss()  # binary cross entropy\n",
    "    optimizer = optim.Adam(model.parameters(), lr=0.0001)\n",
    "\n",
    "    n_epochs = 250   # number of epochs to run\n",
    "    batch_size = 10  # size of each batch\n",
    "    batch_start = torch.arange(0, len(X_train), batch_size)\n",
    "\n",
    "    # Hold the best model\n",
    "    best_acc = - np.inf   # init to negative infinity\n",
    "    best_weights = None\n",
    "\n",
    "    for epoch in range(n_epochs):\n",
    "        model.train()\n",
    "        with tqdm.tqdm(batch_start, unit=\"batch\", mininterval=0, disable=True) as bar:\n",
    "            bar.set_description(f\"Epoch {epoch}\")\n",
    "            for start in bar:\n",
    "                # take a batch\n",
    "                X_batch = X_train[start:start+batch_size]\n",
    "                y_batch = y_train[start:start+batch_size]\n",
    "                # forward pass\n",
    "                y_pred = model(X_batch)\n",
    "                loss = loss_fn(y_pred, y_batch)\n",
    "                # backward pass\n",
    "                optimizer.zero_grad()\n",
    "                loss.backward()\n",
    "                # update weights\n",
    "                optimizer.step()\n",
    "                # print progress\n",
    "                acc = (y_pred.round() == y_batch).float().mean()\n",
    "                bar.set_postfix(\n",
    "                    loss=float(loss),\n",
    "                    acc=float(acc)\n",
    "                )\n",
    "        # evaluate accuracy at end of each epoch\n",
    "        model.eval()\n",
    "        y_pred = model(X_val)\n",
    "        acc = (y_pred.round() == y_val).float().mean()\n",
    "        acc = float(acc)\n",
    "        if acc > best_acc:\n",
    "            best_acc = acc\n",
    "            best_weights = copy.deepcopy(model.state_dict())\n",
    "    # restore model and return best accuracy\n",
    "    model.load_state_dict(best_weights)\n",
    "    return best_acc"
   ]
  },
  {
   "cell_type": "code",
   "execution_count": null,
   "metadata": {},
   "outputs": [],
   "source": [
    "from sklearn.model_selection import StratifiedKFold\n",
    "# define 5-fold cross validation test harness\n",
    "kfold = StratifiedKFold(n_splits=5, shuffle=True)\n",
    "cv_scores = []\n",
    "for train, test in kfold.split(X, y):\n",
    "    # create model, train, and get accuracy\n",
    "    model = Wide()\n",
    "    acc = model_train(model, X[train], y[train], X[test], y[test])\n",
    "    print(\"Accuracy (wide): %.2f\" % acc)\n",
    "    cv_scores.append(acc)\n",
    "\n",
    "# evaluate the model\n",
    "acc = np.mean(cv_scores)\n",
    "std = np.std(cv_scores)\n",
    "print(\"Model accuracy: %.2f%% (+/- %.2f%%)\" % (acc*100, std*100))"
   ]
  },
  {
   "cell_type": "code",
   "execution_count": 21,
   "metadata": {},
   "outputs": [
    {
     "name": "stdout",
     "output_type": "stream",
     "text": [
      "Accuracy (wide): 0.86\n",
      "Accuracy (wide): 0.79\n",
      "Accuracy (wide): 0.83\n",
      "Accuracy (wide): 0.76\n",
      "Accuracy (wide): 0.83\n",
      "Accuracy (deep): 0.83\n",
      "Accuracy (deep): 0.83\n",
      "Accuracy (deep): 0.86\n",
      "Accuracy (deep): 0.86\n",
      "Accuracy (deep): 0.86\n",
      "Wide: 81.38% (+/- 3.52%)\n",
      "Deep: 84.83% (+/- 1.69%)\n"
     ]
    }
   ],
   "source": [
    "from sklearn.model_selection import StratifiedKFold, train_test_split\n",
    "\n",
    "# train-test split: Hold out the test set for final model evaluation\n",
    "X_train, X_test, y_train, y_test = train_test_split(X, y, train_size=0.7, shuffle=True)\n",
    "\n",
    "# define 5-fold cross validation test harness\n",
    "kfold = StratifiedKFold(n_splits=5, shuffle=True)\n",
    "cv_scores_wide = []\n",
    "for train, test in kfold.split(X_train, y_train):\n",
    "    # create model, train, and get accuracy\n",
    "    model = Wide()\n",
    "    acc = model_train(model, X_train[train], y_train[train], X_train[test], y_train[test])\n",
    "    print(\"Accuracy (wide): %.2f\" % acc)\n",
    "    cv_scores_wide.append(acc)\n",
    "cv_scores_deep = []\n",
    "for train, test in kfold.split(X_train, y_train):\n",
    "    # create model, train, and get accuracy\n",
    "    model = Deep()\n",
    "    acc = model_train(model, X_train[train], y_train[train], X_train[test], y_train[test])\n",
    "    print(\"Accuracy (deep): %.2f\" % acc)\n",
    "    cv_scores_deep.append(acc)\n",
    "\n",
    "# evaluate the model\n",
    "wide_acc = np.mean(cv_scores_wide)\n",
    "wide_std = np.std(cv_scores_wide)\n",
    "deep_acc = np.mean(cv_scores_deep)\n",
    "deep_std = np.std(cv_scores_deep)\n",
    "print(\"Wide: %.2f%% (+/- %.2f%%)\" % (wide_acc*100, wide_std*100))\n",
    "print(\"Deep: %.2f%% (+/- %.2f%%)\" % (deep_acc*100, deep_std*100))"
   ]
  },
  {
   "cell_type": "code",
   "execution_count": 36,
   "metadata": {},
   "outputs": [
    {
     "name": "stdout",
     "output_type": "stream",
     "text": [
      "Retrain a deep model\n",
      "Final model accuracy: 82.54%\n"
     ]
    }
   ],
   "source": [
    "# rebuild model with full set of training data\n",
    "if wide_acc > deep_acc:\n",
    "    print(\"Retrain a wide model\")\n",
    "    model = Wide()\n",
    "else:\n",
    "    print(\"Retrain a deep model\")\n",
    "    model = Deep()\n",
    "acc = model_train(model, X_train, y_train, X_test, y_test)\n",
    "print(f\"Final model accuracy: {acc*100:.2f}%\")"
   ]
  },
  {
   "cell_type": "code",
   "execution_count": 26,
   "metadata": {},
   "outputs": [
    {
     "name": "stdout",
     "output_type": "stream",
     "text": [
      "[3.730e-02 2.810e-02 2.320e-02 2.250e-02 1.790e-02 7.330e-02 8.410e-02\n",
      " 1.031e-01 9.930e-02 8.020e-02 1.564e-01 2.565e-01 2.624e-01 1.179e-01\n",
      " 5.970e-02 1.563e-01 2.241e-01 3.586e-01 1.792e-01 3.256e-01 6.079e-01\n",
      " 6.988e-01 8.391e-01 8.553e-01 7.710e-01 6.215e-01 5.736e-01 4.402e-01\n",
      " 4.056e-01 4.411e-01 5.130e-01 5.965e-01 7.272e-01 6.539e-01 5.902e-01\n",
      " 5.393e-01 4.897e-01 4.081e-01 4.145e-01 6.003e-01 7.196e-01 6.633e-01\n",
      " 6.287e-01 4.087e-01 3.212e-01 2.518e-01 1.482e-01 9.880e-02 3.170e-02\n",
      " 2.690e-02 6.600e-03 8.000e-04 4.500e-03 2.400e-03 6.000e-04 7.300e-03\n",
      " 9.600e-03 5.400e-03 8.500e-03 6.000e-03] -> [0.] (expected [1.])\n",
      "[0.0412 0.1135 0.0518 0.0232 0.0646 0.1124 0.1787 0.2407 0.2682 0.2058\n",
      " 0.1546 0.2671 0.3141 0.2904 0.3531 0.5079 0.4639 0.1859 0.4474 0.4079\n",
      " 0.54   0.4786 0.4332 0.6113 0.5091 0.4606 0.7243 0.8987 0.8826 0.9201\n",
      " 0.8005 0.6033 0.212  0.2866 0.4033 0.2803 0.3087 0.355  0.2545 0.1432\n",
      " 0.5869 0.6431 0.5826 0.4286 0.4894 0.5777 0.4315 0.264  0.1794 0.0772\n",
      " 0.0798 0.0376 0.0143 0.0272 0.0127 0.0166 0.0095 0.0225 0.0098 0.0085] -> [0.] (expected [0.])\n",
      "[0.0129 0.0141 0.0309 0.0375 0.0767 0.0787 0.0662 0.1108 0.1777 0.2245\n",
      " 0.2431 0.3134 0.3206 0.2917 0.2249 0.2347 0.2143 0.2939 0.4898 0.6127\n",
      " 0.7531 0.7718 0.7432 0.8673 0.9308 0.9836 1.     0.9595 0.8722 0.6862\n",
      " 0.4901 0.328  0.3115 0.1969 0.1019 0.0317 0.0756 0.0907 0.1066 0.138\n",
      " 0.0665 0.1475 0.247  0.2788 0.2709 0.2283 0.1818 0.1185 0.0546 0.0219\n",
      " 0.0204 0.0124 0.0093 0.0072 0.0019 0.0027 0.0054 0.0017 0.0024 0.0029] -> [0.] (expected [0.])\n",
      "[0.0091 0.0213 0.0206 0.0505 0.0657 0.0795 0.097  0.0872 0.0743 0.0837\n",
      " 0.1579 0.0898 0.0309 0.1856 0.2969 0.2032 0.1264 0.1655 0.1661 0.2091\n",
      " 0.231  0.446  0.6634 0.6933 0.7663 0.8206 0.7049 0.756  0.7466 0.6387\n",
      " 0.4846 0.3328 0.5356 0.8741 0.8573 0.6718 0.3446 0.315  0.2702 0.2598\n",
      " 0.2742 0.3594 0.4382 0.246  0.0758 0.0187 0.0797 0.0748 0.0367 0.0155\n",
      " 0.03   0.0112 0.0112 0.0102 0.0026 0.0097 0.0098 0.0043 0.0071 0.0108] -> [1.] (expected [1.])\n",
      "[0.0087 0.0046 0.0081 0.023  0.0586 0.0682 0.0993 0.0717 0.0576 0.0818\n",
      " 0.1315 0.1862 0.2789 0.2579 0.224  0.2568 0.2933 0.2991 0.3924 0.4691\n",
      " 0.5665 0.6464 0.6774 0.7577 0.8856 0.9419 1.     0.8564 0.679  0.5587\n",
      " 0.4147 0.2946 0.2025 0.0688 0.1171 0.2157 0.2216 0.2776 0.2309 0.1444\n",
      " 0.1513 0.1745 0.1756 0.1424 0.0908 0.0138 0.0469 0.048  0.0159 0.0045\n",
      " 0.0015 0.0052 0.0038 0.0079 0.0114 0.005  0.003  0.0064 0.0058 0.003 ] -> [1.] (expected [1.])\n"
     ]
    }
   ],
   "source": [
    "model.eval()\n",
    "threshold = 0.68\n",
    "with torch.no_grad():\n",
    "    # Test out inference with 5 samples\n",
    "    for i in range(5):\n",
    "        y_pred = model(X_test[i:i+1])\n",
    "        y_pred = (y_pred > threshold).float() # 0.0 or 1.0\n",
    "        print(f\"{X_test[i].numpy()} -> {y_pred[0].numpy()} (expected {y_test[i].numpy()})\")"
   ]
  },
  {
   "cell_type": "code",
   "execution_count": 37,
   "metadata": {},
   "outputs": [
    {
     "data": {
      "image/png": "[encoded data removed]",
      "text/plain": [
       "<Figure size 640x480 with 1 Axes>"
      ]
     },
     "metadata": {},
     "output_type": "display_data"
    }
   ],
   "source": [
    "from sklearn.metrics import roc_curve\n",
    "import matplotlib.pyplot as plt\n",
    "\n",
    "with torch.no_grad():\n",
    "    # Plot the ROC curve\n",
    "    y_pred = model(X_test)\n",
    "    fpr, tpr, thresholds = roc_curve(y_test, y_pred)\n",
    "    plt.plot(fpr, tpr) # ROC curve = TPR vs FPR\n",
    "    plt.title(\"Receiver Operating Characteristics\")\n",
    "    plt.xlabel(\"False Positive Rate\")\n",
    "    plt.ylabel(\"True Positive Rate\")\n",
    "    plt.show()"
   ]
  }
 ],
 "metadata": {
  "kernelspec": {
   "display_name": "pytorch_bc",
   "language": "python",
   "name": "python3"
  },
  "language_info": {
   "codemirror_mode": {
    "name": "ipython",
    "version": 3
   },
   "file_extension": ".py",
   "mimetype": "text/x-python",
   "name": "python",
   "nbconvert_exporter": "python",
   "pygments_lexer": "ipython3",
   "version": "3.9.17"
  },
  "orig_nbformat": 4
 },
 "nbformat": 4,
 "nbformat_minor": 2
}
